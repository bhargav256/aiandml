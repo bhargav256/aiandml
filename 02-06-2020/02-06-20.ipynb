{
 "cells": [
  {
   "cell_type": "markdown",
   "metadata": {},
   "source": [
    "## cse-221710304045-p.bhargav\n"
   ]
  },
  {
   "cell_type": "code",
   "execution_count": 1,
   "metadata": {},
   "outputs": [
    {
     "name": "stdout",
     "output_type": "stream",
     "text": [
      "['?', '?', '?', '?', '?']\n",
      "lifes left:♥ ♥ ♥ ♥ ♥ ♥ ♥ ♥ ♥ \n",
      "give a letter or the whole worda\n",
      "['a', '?', '?', '?', '?']\n",
      "lifes left:♥ ♥ ♥ ♥ ♥ ♥ ♥ ♥ ♥ \n",
      "give a letter or the whole wordchard\n",
      "you lose a life\n",
      "['a', '?', '?', '?', '?']\n",
      "lifes left:♥ ♥ ♥ ♥ ♥ ♥ ♥ ♥ \n",
      "give a letter or the whole wordapple\n",
      "you lose a life\n",
      "['a', '?', '?', '?', '?']\n",
      "lifes left:♥ ♥ ♥ ♥ ♥ ♥ ♥ \n",
      "give a letter or the whole wordackkie\n",
      "you lose a life\n",
      "['a', '?', '?', '?', '?']\n",
      "lifes left:♥ ♥ ♥ ♥ ♥ ♥ \n",
      "give a letter or the whole wordackke\n",
      "you won the secret  word ackke\n"
     ]
    }
   ],
   "source": [
    "import random\n",
    "list1=['ackke','apple','areca','betal','chard','chive','drupe','galia','grape','mango']\n",
    "n=9\n",
    "x=5\n",
    "list3=['?','?','?','?','?']\n",
    "list2=list(random.choice(list1))\n",
    "str1=''\n",
    "for ele in list2: \n",
    "    str1 += ele \n",
    "while n!=0 and x!=0:\n",
    "    print(list3)\n",
    "    print(\"lifes left\",end=\":\")\n",
    "    for i in range(n):\n",
    "        print('♥',end=' ')\n",
    "    s=input(\"\\ngive a letter or the whole word\")\n",
    "    if len(s)>1:\n",
    "        if s==str1:\n",
    "            x=0\n",
    "        else:\n",
    "            print(\"you lose a life\")\n",
    "            n=n-1\n",
    "    else:\n",
    "        c=0\n",
    "        for i in range(len(list2)):\n",
    "            if list2[i]==s:\n",
    "                list3[i]=list2[i]\n",
    "                list2[i]=' '\n",
    "                x=x-1\n",
    "                c=1\n",
    "                break\n",
    "        if c==0:\n",
    "            print(\"you lose a life\")\n",
    "            n=n-1\n",
    "print(\"you won the secret  word %s\"%str1 if x==0 else \"lifes are over the word is %s\"%str1)"
   ]
  },
  {
   "cell_type": "code",
   "execution_count": null,
   "metadata": {},
   "outputs": [],
   "source": []
  }
 ],
 "metadata": {
  "kernelspec": {
   "display_name": "Python 3",
   "language": "python",
   "name": "python3"
  },
  "language_info": {
   "codemirror_mode": {
    "name": "ipython",
    "version": 3
   },
   "file_extension": ".py",
   "mimetype": "text/x-python",
   "name": "python",
   "nbconvert_exporter": "python",
   "pygments_lexer": "ipython3",
   "version": "3.7.4"
  }
 },
 "nbformat": 4,
 "nbformat_minor": 2
}
